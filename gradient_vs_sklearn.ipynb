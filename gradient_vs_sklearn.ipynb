{
 "cells": [
  {
   "cell_type": "code",
   "execution_count": 1,
   "metadata": {
    "ExecuteTime": {
     "end_time": "2019-11-30T13:41:14.930452Z",
     "start_time": "2019-11-30T13:41:13.475963Z"
    }
   },
   "outputs": [],
   "source": [
    "import numpy as np\n",
    "import scipy as sp\n",
    "import pandas as pd\n",
    "import seaborn as sns\n",
    "import matplotlib.pyplot as plt\n",
    "%matplotlib inline"
   ]
  },
  {
   "cell_type": "code",
   "execution_count": 2,
   "metadata": {
    "ExecuteTime": {
     "end_time": "2019-11-30T13:41:15.006474Z",
     "start_time": "2019-11-30T13:41:14.940322Z"
    }
   },
   "outputs": [
    {
     "data": {
      "text/html": [
       "<div>\n",
       "<style scoped>\n",
       "    .dataframe tbody tr th:only-of-type {\n",
       "        vertical-align: middle;\n",
       "    }\n",
       "\n",
       "    .dataframe tbody tr th {\n",
       "        vertical-align: top;\n",
       "    }\n",
       "\n",
       "    .dataframe thead th {\n",
       "        text-align: right;\n",
       "    }\n",
       "</style>\n",
       "<table border=\"1\" class=\"dataframe\">\n",
       "  <thead>\n",
       "    <tr style=\"text-align: right;\">\n",
       "      <th></th>\n",
       "      <th>population</th>\n",
       "      <th>profit</th>\n",
       "    </tr>\n",
       "  </thead>\n",
       "  <tbody>\n",
       "    <tr>\n",
       "      <th>0</th>\n",
       "      <td>6.1101</td>\n",
       "      <td>17.5920</td>\n",
       "    </tr>\n",
       "    <tr>\n",
       "      <th>1</th>\n",
       "      <td>5.5277</td>\n",
       "      <td>9.1302</td>\n",
       "    </tr>\n",
       "    <tr>\n",
       "      <th>2</th>\n",
       "      <td>8.5186</td>\n",
       "      <td>13.6620</td>\n",
       "    </tr>\n",
       "    <tr>\n",
       "      <th>3</th>\n",
       "      <td>7.0032</td>\n",
       "      <td>11.8540</td>\n",
       "    </tr>\n",
       "    <tr>\n",
       "      <th>4</th>\n",
       "      <td>5.8598</td>\n",
       "      <td>6.8233</td>\n",
       "    </tr>\n",
       "  </tbody>\n",
       "</table>\n",
       "</div>"
      ],
      "text/plain": [
       "   population   profit\n",
       "0      6.1101  17.5920\n",
       "1      5.5277   9.1302\n",
       "2      8.5186  13.6620\n",
       "3      7.0032  11.8540\n",
       "4      5.8598   6.8233"
      ]
     },
     "execution_count": 2,
     "metadata": {},
     "output_type": "execute_result"
    }
   ],
   "source": [
    "# Считать данные в pandas dataframe\n",
    "data = pd.read_csv('ex1data1.csv')\n",
    "data.head()"
   ]
  },
  {
   "cell_type": "code",
   "execution_count": 3,
   "metadata": {
    "ExecuteTime": {
     "end_time": "2019-11-30T13:41:15.332307Z",
     "start_time": "2019-11-30T13:41:15.009141Z"
    }
   },
   "outputs": [
    {
     "data": {
      "text/plain": [
       "Text(0.5, 1.0, 'dependency')"
      ]
     },
     "execution_count": 3,
     "metadata": {},
     "output_type": "execute_result"
    },
    {
     "data": {
      "image/png": "[encoded data removed]",
      "text/plain": [
       "<Figure size 432x288 with 1 Axes>"
      ]
     },
     "metadata": {
      "needs_background": "light"
     },
     "output_type": "display_data"
    }
   ],
   "source": [
    "#Построить scatter plot зависимости прибыли от кол-ва людей в городе\n",
    "plt.scatter(data['population'], data['profit'])\n",
    "plt.xlabel('population')\n",
    "plt.ylabel('profit')\n",
    "plt.title('dependency')"
   ]
  },
  {
   "cell_type": "code",
   "execution_count": 4,
   "metadata": {
    "ExecuteTime": {
     "end_time": "2019-11-30T13:41:15.343217Z",
     "start_time": "2019-11-30T13:41:15.334762Z"
    }
   },
   "outputs": [],
   "source": [
    "# Найти матрицу Х и вектор у. Нормализировать данные. Добавить колонку единичек к матрице Х\n",
    "arr = np.array(data['population'])\n",
    "X_mean, X_std = np.mean(arr), np.std(arr)\n",
    "X_normalized = np.reshape((arr - X_mean) / X_std, (len(arr),1))\n",
    "ones = np.reshape(np.ones(len(arr)),(len(arr),1))\n",
    "X_normalized = np.hstack((X_normalized,ones))\n",
    "Y_vector = np.array(data['profit'])"
   ]
  },
  {
   "cell_type": "code",
   "execution_count": 5,
   "metadata": {
    "ExecuteTime": {
     "end_time": "2019-11-30T13:41:15.351227Z",
     "start_time": "2019-11-30T13:41:15.346384Z"
    }
   },
   "outputs": [],
   "source": [
    "# Написать mserror, linear_prediction в матричной форме\n",
    "def mserror(y_vector, y_prediction):\n",
    "    return np.mean((y_vector-y_prediction)**2)\n",
    "\n",
    "def linear_prediction(weights, arguments):\n",
    "    return np.dot(weights, arguments)"
   ]
  },
  {
   "cell_type": "code",
   "execution_count": 6,
   "metadata": {
    "ExecuteTime": {
     "end_time": "2019-11-30T13:41:15.385860Z",
     "start_time": "2019-11-30T13:41:15.355393Z"
    }
   },
   "outputs": [],
   "source": [
    "from time import time\n",
    "\n",
    "def timed(fun):\n",
    "    def timed_fun(*args, **kwargs):\n",
    "        time_st = time()\n",
    "        ret = fun(*args, **kwargs)\n",
    "        return ret, (fun.__name__, round(time() - time_st, 2))\n",
    "    return timed_fun\n",
    "    \n",
    "# Найти коэффициенты линейной модели\n",
    "def gradient_step(X_matrix, y_vector, weights, train_inds, alpha=0.01):\n",
    "    delta = (y_vector[train_inds] - linear_prediction(X_matrix[train_inds], weights))\n",
    "    direction = np.dot(X_matrix[train_inds].transpose(), delta)\n",
    "    return weights + alpha / X_matrix.shape[0] * direction\n",
    "\n",
    "def find_directly(X_matrix, y_vector):\n",
    "    X_square = np.dot(X_matrix.transpose(), X_matrix)\n",
    "    vector = np.dot(X_matrix.transpose(), y_vector)\n",
    "    return np.linalg.solve(X_square, vector)\n",
    "\n",
    "@timed\n",
    "def find_weights(X_matrix, y_vector, iter_num, mode):\n",
    "    weights = np.ones(X_matrix.shape[1])\n",
    "    for iteration in range(iter_num):\n",
    "        train_inds = generate_inds(X_matrix.shape[0], mode=mode)\n",
    "        weights = gradient_step(X_matrix, y_vector, weights, train_inds)\n",
    "    last_weights = gradient_step(X_matrix, y_vector, weights, train_inds)\n",
    "    return last_weights, weights - last_weights\n",
    "\n",
    "def generate_inds(full_size, mode='full'):\n",
    "    if mode == 'full':\n",
    "        return np.ones(full_size, dtype=np.bool)\n",
    "    if mode == 'batch':\n",
    "        return np.random.randint(full_size, size=32)\n",
    "    return np.random.randint(full_size, size=1)"
   ]
  },
  {
   "cell_type": "code",
   "execution_count": 7,
   "metadata": {
    "ExecuteTime": {
     "end_time": "2019-11-30T13:41:26.543634Z",
     "start_time": "2019-11-30T13:41:15.389188Z"
    }
   },
   "outputs": [
    {
     "name": "stdout",
     "output_type": "stream",
     "text": [
      "direct calculations: [4.59304113 5.83913505]\n",
      "====================================================================================================\n",
      "[4.59288757 5.83892823]: 0.04 sec 1000 iterations for full, last delta [-1.55116068e-06 -2.08911497e-06]\n",
      "[4.59304113 5.83913505]: 0.28 sec 10000 iterations for full, last delta [0. 0.]\n",
      "[4.59304113 5.83913505]: 2.23 sec 100000 iterations for full, last delta [0. 0.]\n",
      "====================================================================================================\n",
      "[4.48694923 5.65875971]: 0.04 sec 1000 iterations for batch, last delta [-0.00360795 -0.00338684]\n",
      "[4.62340293 5.8569212 ]: 0.51 sec 10000 iterations for batch, last delta [-0.00088124 -0.00032696]\n",
      "[4.58557442 5.82331214]: 3.93 sec 100000 iterations for batch, last delta [-1.45391953e-03 -9.97642684e-05]\n",
      "====================================================================================================\n",
      "[1.31113356 1.4615433 ]: 0.04 sec 1000 iterations for single, last delta [-6.20534820e-05 -3.58922337e-04]\n",
      "[3.26192938 4.1057602 ]: 0.4 sec 10000 iterations for single, last delta [-6.09711614e-05  8.96539220e-05]\n",
      "[4.55875175 5.7982396 ]: 3.67 sec 100000 iterations for single, last delta [-0.00024534  0.00052448]\n"
     ]
    }
   ],
   "source": [
    "true_coefs = find_directly(X_normalized, Y_vector)\n",
    "print('direct calculations:', true_coefs)\n",
    "msg = '{coef}: {spent_time} sec {iter} iterations for {fun_name}, last delta {delta}'\n",
    "for mode in ['full', 'batch', 'single']:\n",
    "    print('=' * 100)\n",
    "    for iteration in [1000, 10000, 100000]:\n",
    "        (weights, delta), (fun_name, spent_time) = find_weights(X_normalized, Y_vector, iteration, mode)\n",
    "        print(msg.format(iter=iteration, delta=delta, coef=weights, spent_time=spent_time, fun_name=mode))\n"
   ]
  },
  {
   "cell_type": "markdown",
   "metadata": {},
   "source": [
    "Видно, что для фул батча 10000 достаточно 0.2 секунды, даже 0.02 для 1000 итераций дает хороший результат\n",
    "Для остальных 4 секнды на 100000 итерациях не есть хорошо (просто выборка маленькая, всего 97 городов)"
   ]
  },
  {
   "cell_type": "code",
   "execution_count": 8,
   "metadata": {
    "ExecuteTime": {
     "end_time": "2019-11-30T13:41:26.883322Z",
     "start_time": "2019-11-30T13:41:26.546112Z"
    }
   },
   "outputs": [
    {
     "data": {
      "text/plain": [
       "array([4.59304113, 5.83913505])"
      ]
     },
     "execution_count": 8,
     "metadata": {},
     "output_type": "execute_result"
    }
   ],
   "source": [
    "from sklearn.linear_model import LinearRegression\n",
    "regression = LinearRegression(fit_intercept=False, normalize=True).fit(X_normalized, Y_vector)\n",
    "regression.coef_"
   ]
  },
  {
   "cell_type": "markdown",
   "metadata": {
    "ExecuteTime": {
     "end_time": "2019-11-30T13:34:20.249944Z",
     "start_time": "2019-11-30T13:34:20.245818Z"
    }
   },
   "source": [
    "The last method is very quick and gives exact value like the one I wrote by myself: find_directly()"
   ]
  }
 ],
 "metadata": {
  "kernelspec": {
   "display_name": "Python 3",
   "language": "python",
   "name": "python3"
  },
  "language_info": {
   "codemirror_mode": {
    "name": "ipython",
    "version": 3
   },
   "file_extension": ".py",
   "mimetype": "text/x-python",
   "name": "python",
   "nbconvert_exporter": "python",
   "pygments_lexer": "ipython3",
   "version": "3.7.5"
  }
 },
 "nbformat": 4,
 "nbformat_minor": 2
}
